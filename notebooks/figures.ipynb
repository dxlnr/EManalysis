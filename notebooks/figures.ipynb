{
 "cells": [
  {
   "cell_type": "code",
   "execution_count": 23,
   "id": "homeless-vietnamese",
   "metadata": {},
   "outputs": [],
   "source": [
    "import os, sys\n",
    "import numpy as np\n",
    "import h5py\n",
    "import json\n",
    "import seaborn as sb\n",
    "import matplotlib.pyplot as plt\n",
    "import pandas as pd\n",
    "\n",
    "parent = os.path.abspath(os.getcwd() + \"/../\")\n",
    "sys.path.append(parent)\n",
    "\n",
    "from analyzer.model.utils.extracting import compute_region_size\n",
    "\n",
    "gtfns_mouse = 'datasets/mouseA/mito_export_allgroups'"
   ]
  },
  {
   "cell_type": "code",
   "execution_count": 44,
   "id": "painted-nitrogen",
   "metadata": {},
   "outputs": [
    {
     "name": "stdout",
     "output_type": "stream",
     "text": [
      "Loaded size features to cache.\n",
      "Loaded skeleton length features to cache.\n"
     ]
    }
   ],
   "source": [
    "#sizef_mouse = compute_region_size(dprc='iter', fns=gtfns_mouse)\n",
    "\n",
    "with h5py.File(parent + '/features/mouseA/sizef.h5', \"r\") as h5f:\n",
    "    labels = np.array(h5f['id'], dtype=np.uint16)\n",
    "        \n",
    "    sizef_mouse = np.array(h5f['size'])\n",
    "    print('Loaded {} features to cache.'.format('size'))\n",
    "    \n",
    "with h5py.File(parent + '/features/mouseA/slenf.h5', \"r\") as h5f:\n",
    "    labels = np.array(h5f['id'], dtype=np.uint16)\n",
    "        \n",
    "    slenf_mouse = np.array(h5f['slen'])\n",
    "    print('Loaded {} features to cache.'.format('skeleton length'))\n",
    "    \n",
    "with open(os.path.join(parent, 'features/mouseA/gt_vector_allgroups.json'), 'r') as f:\n",
    "    gt_vector = json.loads(f.read())"
   ]
  },
  {
   "cell_type": "code",
   "execution_count": 47,
   "id": "severe-beijing",
   "metadata": {},
   "outputs": [
    {
     "name": "stdout",
     "output_type": "stream",
     "text": [
      "       label  gt_label     vol  skeleton_len\n",
      "0          1     22232  164709    535.056274\n",
      "1          2     22232  116462    656.349348\n",
      "2          3     22236    4833     29.257025\n",
      "3          4     22236    6095     12.666822\n",
      "4          5     22237   23904     66.130513\n",
      "...      ...       ...     ...           ...\n",
      "23269  22081     22236    1614      1.732051\n",
      "23270  22085     22238    2662     18.055470\n",
      "23271  23209     22279    3170      3.316625\n",
      "23272  23210     22236    2223      1.732051\n",
      "23273  23212     22238    1981      2.449490\n",
      "\n",
      "[23274 rows x 4 columns]\n"
     ]
    }
   ],
   "source": [
    "vol_data = np.swapaxes(np.stack((sizef_mouse, gt_vector)), 0, 1)\n",
    "dataset = pd.DataFrame({'label': labels, 'gt_label': gt_vector, 'vol': sizef_mouse, 'skeleton_len': slenf_mouse})\n",
    "\n",
    "print(dataset)"
   ]
  },
  {
   "cell_type": "code",
   "execution_count": 42,
   "id": "funded-tanzania",
   "metadata": {},
   "outputs": [
    {
     "data": {
      "text/plain": [
       "<Figure size 3600x576 with 0 Axes>"
      ]
     },
     "metadata": {},
     "output_type": "display_data"
    },
    {
     "data": {
      "image/png": "[encoded data removed]",
      "text/plain": [
       "<Figure size 360x360 with 1 Axes>"
      ]
     },
     "metadata": {
      "needs_background": "light"
     },
     "output_type": "display_data"
    }
   ],
   "source": [
    "plt.figure(figsize=(50,8))\n",
    "\n",
    "tmp = sb.catplot(x=\"gt_label\", y=\"vol\", jitter=False, data=dataset)\n",
    "plt.xticks(\n",
    "    rotation=45, \n",
    "    horizontalalignment='right',\n",
    "    fontweight='light',\n",
    "    fontsize=10  \n",
    ")\n",
    "plt.yticks(\n",
    "    fontweight='light',\n",
    "    fontsize=10\n",
    ")\n",
    "#sb.catplot(x=\"gt_label\", y=\"vol\", kind=\"box\", data=dataset)\n",
    "tmp.savefig(\"output.svg\")\n"
   ]
  },
  {
   "cell_type": "code",
   "execution_count": null,
   "id": "recovered-think",
   "metadata": {},
   "outputs": [],
   "source": []
  }
 ],
 "metadata": {
  "kernelspec": {
   "display_name": "py3_torch",
   "language": "python",
   "name": "py3_torch"
  },
  "language_info": {
   "codemirror_mode": {
    "name": "ipython",
    "version": 3
   },
   "file_extension": ".py",
   "mimetype": "text/x-python",
   "name": "python",
   "nbconvert_exporter": "python",
   "pygments_lexer": "ipython3",
   "version": "3.8.5"
  }
 },
 "nbformat": 4,
 "nbformat_minor": 5
}
