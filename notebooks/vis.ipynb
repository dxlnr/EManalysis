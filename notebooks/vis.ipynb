{
 "cells": [
  {
   "cell_type": "code",
   "execution_count": 2,
   "metadata": {},
   "outputs": [],
   "source": [
    "import h5py\n",
    "from analyzer.data import data_vis\n",
    "import numpy as np"
   ]
  },
  {
   "cell_type": "code",
   "execution_count": 1,
   "metadata": {
    "collapsed": false,
    "jupyter": {
     "outputs_hidden": false
    },
    "pycharm": {
     "name": "#%%\n"
    }
   },
   "outputs": [
    {
     "ename": "NameError",
     "evalue": "name 'h5py' is not defined",
     "output_type": "error",
     "traceback": [
      "\u001B[0;31m---------------------------------------------------------------------------\u001B[0m",
      "\u001B[0;31mNameError\u001B[0m                                 Traceback (most recent call last)",
      "\u001B[0;32m<ipython-input-1-77fa69a34aed>\u001B[0m in \u001B[0;36m<module>\u001B[0;34m\u001B[0m\n\u001B[0;32m----> 1\u001B[0;31m \u001B[0;32mwith\u001B[0m \u001B[0mh5py\u001B[0m\u001B[0;34m.\u001B[0m\u001B[0mFile\u001B[0m\u001B[0;34m(\u001B[0m\u001B[0;34m'../datasets/vae/pts.h5'\u001B[0m\u001B[0;34m)\u001B[0m \u001B[0;32mas\u001B[0m \u001B[0mptsf\u001B[0m\u001B[0;34m:\u001B[0m\u001B[0;34m\u001B[0m\u001B[0;34m\u001B[0m\u001B[0m\n\u001B[0m\u001B[1;32m      2\u001B[0m     \u001B[0;32mfor\u001B[0m \u001B[0mok\u001B[0m \u001B[0;32min\u001B[0m \u001B[0mptsf\u001B[0m\u001B[0;34m[\u001B[0m\u001B[0;34m'ptcs'\u001B[0m\u001B[0;34m]\u001B[0m\u001B[0;34m.\u001B[0m\u001B[0mkeys\u001B[0m\u001B[0;34m(\u001B[0m\u001B[0;34m)\u001B[0m\u001B[0;34m:\u001B[0m\u001B[0;34m\u001B[0m\u001B[0;34m\u001B[0m\u001B[0m\n\u001B[1;32m      3\u001B[0m         \u001B[0mdata_vis\u001B[0m\u001B[0;34m.\u001B[0m\u001B[0mvisptc\u001B[0m\u001B[0;34m(\u001B[0m\u001B[0mptsf\u001B[0m\u001B[0;34m[\u001B[0m\u001B[0;34m'ptcs'\u001B[0m\u001B[0;34m]\u001B[0m\u001B[0;34m[\u001B[0m\u001B[0mok\u001B[0m\u001B[0;34m]\u001B[0m\u001B[0;34m)\u001B[0m\u001B[0;34m\u001B[0m\u001B[0;34m\u001B[0m\u001B[0m\n\u001B[1;32m      4\u001B[0m \u001B[0;34m\u001B[0m\u001B[0m\n\u001B[1;32m      5\u001B[0m \u001B[0;34m\u001B[0m\u001B[0m\n",
      "\u001B[0;31mNameError\u001B[0m: name 'h5py' is not defined"
     ]
    }
   ],
   "source": [
    "\n",
    "with h5py.File('../datasets/vae/pts.h5') as ptsf:\n",
    "    for ok in ptsf['ptcs'].keys():\n",
    "        data_vis.visptc(ptsf['ptcs'][ok])\n"
   ]
  },
  {
   "cell_type": "code",
   "execution_count": 2,
   "metadata": {
    "collapsed": false,
    "jupyter": {
     "outputs_hidden": false
    },
    "pycharm": {
     "name": "#%%\n"
    }
   },
   "outputs": [
    {
     "name": "stdout",
     "output_type": "stream",
     "text": [
      "2.0\n"
     ]
    }
   ],
   "source": [
    "with h5py.File('../features/ptc_shapef_4000.h5', 'r') as ptsf:\n",
    "    for i, id in enumerate(ptsf['id']):\n",
    "        if int(id) == 2:\n",
    "            print(id)\n",
    "            data_vis.visptc(ptsf['ptc_reconstruction'][i])\n"
   ]
  },
  {
   "cell_type": "code",
   "execution_count": null,
   "metadata": {
    "pycharm": {
     "is_executing": true
    }
   },
   "outputs": [
    {
     "name": "stdout",
     "output_type": "stream",
     "text": [
      "<KeysViewHDF5 ['1', '10', '100', '1000', '10000', '10001', '10002', '10003', '10004', '10005']>\n",
      "(1000, 3)\n",
      "<KeysViewHDF5 ['1', '10', '100', '1000', '10000', '10001', '10002', '10003', '10004', '10005']>\n",
      "(1000, 3)\n",
      "<KeysViewHDF5 ['1', '10', '100', '1000', '10000', '10001', '10002', '10003', '10004', '10005']>\n",
      "(1000, 3)\n",
      "<KeysViewHDF5 ['1', '10', '100', '1000', '10000', '10001', '10002', '10003', '10004', '10005']>\n",
      "(1000, 3)\n",
      "<KeysViewHDF5 ['1', '10', '100', '1000', '10000', '10001', '10002', '10003', '10004', '10005']>\n",
      "(1000, 3)\n",
      "<KeysViewHDF5 ['1', '10', '100', '1000', '10000', '10001', '10002', '10003', '10004', '10005']>\n",
      "(1000, 3)\n"
     ]
    }
   ],
   "source": [
    "import h5py\n",
    "from analyzer.data import data_vis\n",
    "\n",
    "with h5py.File('../datasets/vae/random_ptc.h5', 'r') as ptsf:\n",
    "    for i, obj in ptsf.items():\n",
    "        print(ptsf.keys())\n",
    "        print(obj.shape)\n",
    "        data_vis.visptc(obj)\n"
   ]
  },
  {
   "cell_type": "code",
   "execution_count": null,
   "outputs": [],
   "source": [],
   "metadata": {
    "collapsed": false,
    "pycharm": {
     "name": "#%%\n"
    }
   }
  }
 ],
 "metadata": {
  "kernelspec": {
   "display_name": "Python 3",
   "language": "python",
   "name": "python3"
  },
  "language_info": {
   "codemirror_mode": {
    "name": "ipython",
    "version": 3
   },
   "file_extension": ".py",
   "mimetype": "text/x-python",
   "name": "python",
   "nbconvert_exporter": "python",
   "pygments_lexer": "ipython3",
   "version": "3.8.6"
  }
 },
 "nbformat": 4,
 "nbformat_minor": 4
}