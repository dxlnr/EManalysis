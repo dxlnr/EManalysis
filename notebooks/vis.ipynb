{
 "cells": [
  {
   "cell_type": "code",
   "execution_count": 1,
   "metadata": {},
   "outputs": [],
   "source": [
    "import h5py\n",
    "from analyzer.data import data_vis\n",
    "import numpy as np"
   ]
  },
  {
   "cell_type": "code",
   "execution_count": 10,
   "metadata": {
    "collapsed": false,
    "jupyter": {
     "outputs_hidden": false
    },
    "pycharm": {
     "name": "#%%\n"
    }
   },
   "outputs": [
    {
     "ename": "TypeError",
     "evalue": "__init__(): incompatible constructor arguments. The following argument types are supported:\n    1. open3d.cpu.pybind.utility.Vector3dVector()\n    2. open3d.cpu.pybind.utility.Vector3dVector(arg0: numpy.ndarray[float64])\n    3. open3d.cpu.pybind.utility.Vector3dVector(arg0: open3d.cpu.pybind.utility.Vector3dVector)\n    4. open3d.cpu.pybind.utility.Vector3dVector(arg0: iterable)\n\nInvoked with: <HDF5 dataset \"1\": shape (14712, 3), type \"<f8\">; kwargs: debug=True",
     "output_type": "error",
     "traceback": [
      "\u001B[0;31m---------------------------------------------------------------------------\u001B[0m",
      "\u001B[0;31mTypeError\u001B[0m                                 Traceback (most recent call last)",
      "\u001B[0;32m<ipython-input-10-283b728935e7>\u001B[0m in \u001B[0;36m<module>\u001B[0;34m\u001B[0m\n\u001B[1;32m      1\u001B[0m \u001B[0;32mwith\u001B[0m \u001B[0mh5py\u001B[0m\u001B[0;34m.\u001B[0m\u001B[0mFile\u001B[0m\u001B[0;34m(\u001B[0m\u001B[0;34m'../datasets/vae/pts.h5'\u001B[0m\u001B[0;34m)\u001B[0m \u001B[0;32mas\u001B[0m \u001B[0mptsf\u001B[0m\u001B[0;34m:\u001B[0m\u001B[0;34m\u001B[0m\u001B[0;34m\u001B[0m\u001B[0m\n\u001B[1;32m      2\u001B[0m     \u001B[0;32mfor\u001B[0m \u001B[0mok\u001B[0m \u001B[0;32min\u001B[0m \u001B[0mptsf\u001B[0m\u001B[0;34m[\u001B[0m\u001B[0;34m'ptcs'\u001B[0m\u001B[0;34m]\u001B[0m\u001B[0;34m.\u001B[0m\u001B[0mkeys\u001B[0m\u001B[0;34m(\u001B[0m\u001B[0;34m)\u001B[0m\u001B[0;34m:\u001B[0m\u001B[0;34m\u001B[0m\u001B[0;34m\u001B[0m\u001B[0m\n\u001B[0;32m----> 3\u001B[0;31m         \u001B[0mdata_vis\u001B[0m\u001B[0;34m.\u001B[0m\u001B[0mvisptc\u001B[0m\u001B[0;34m(\u001B[0m\u001B[0mptsf\u001B[0m\u001B[0;34m[\u001B[0m\u001B[0;34m'ptcs'\u001B[0m\u001B[0;34m]\u001B[0m\u001B[0;34m[\u001B[0m\u001B[0mok\u001B[0m\u001B[0;34m]\u001B[0m\u001B[0;34m)\u001B[0m\u001B[0;34m\u001B[0m\u001B[0;34m\u001B[0m\u001B[0m\n\u001B[0m",
      "\u001B[0;32m~/code/EManalysis/notebooks/analyzer/data/data_vis.py\u001B[0m in \u001B[0;36mvisptc\u001B[0;34m(ptc)\u001B[0m\n\u001B[1;32m     48\u001B[0m \t'''\n\u001B[1;32m     49\u001B[0m         \u001B[0mpoint_cloud\u001B[0m \u001B[0;34m=\u001B[0m \u001B[0mo3d\u001B[0m\u001B[0;34m.\u001B[0m\u001B[0mgeometry\u001B[0m\u001B[0;34m.\u001B[0m\u001B[0mPointCloud\u001B[0m\u001B[0;34m(\u001B[0m\u001B[0;34m)\u001B[0m\u001B[0;34m\u001B[0m\u001B[0;34m\u001B[0m\u001B[0m\n\u001B[0;32m---> 50\u001B[0;31m         \u001B[0mpoint_cloud\u001B[0m\u001B[0;34m.\u001B[0m\u001B[0mpoints\u001B[0m \u001B[0;34m=\u001B[0m \u001B[0mo3d\u001B[0m\u001B[0;34m.\u001B[0m\u001B[0mutility\u001B[0m\u001B[0;34m.\u001B[0m\u001B[0mVector3dVector\u001B[0m\u001B[0;34m(\u001B[0m\u001B[0mptc\u001B[0m\u001B[0;34m,\u001B[0m \u001B[0mdebug\u001B[0m\u001B[0;34m=\u001B[0m\u001B[0;32mTrue\u001B[0m\u001B[0;34m)\u001B[0m\u001B[0;34m\u001B[0m\u001B[0;34m\u001B[0m\u001B[0m\n\u001B[0m\u001B[1;32m     51\u001B[0m         \u001B[0mpoint_cloud\u001B[0m\u001B[0;34m.\u001B[0m\u001B[0mpaint_uniform_color\u001B[0m\u001B[0;34m(\u001B[0m\u001B[0;34m[\u001B[0m\u001B[0;36m0.9\u001B[0m\u001B[0;34m,\u001B[0m \u001B[0;36m0.1\u001B[0m\u001B[0;34m,\u001B[0m \u001B[0;36m0.1\u001B[0m\u001B[0;34m]\u001B[0m\u001B[0;34m)\u001B[0m\u001B[0;34m\u001B[0m\u001B[0;34m\u001B[0m\u001B[0m\n\u001B[1;32m     52\u001B[0m         \u001B[0mo3d\u001B[0m\u001B[0;34m.\u001B[0m\u001B[0mvisualization\u001B[0m\u001B[0;34m.\u001B[0m\u001B[0mdraw_geometries\u001B[0m\u001B[0;34m(\u001B[0m\u001B[0;34m[\u001B[0m\u001B[0mpoint_cloud\u001B[0m\u001B[0;34m]\u001B[0m\u001B[0;34m)\u001B[0m\u001B[0;34m\u001B[0m\u001B[0;34m\u001B[0m\u001B[0m\n",
      "\u001B[0;31mTypeError\u001B[0m: __init__(): incompatible constructor arguments. The following argument types are supported:\n    1. open3d.cpu.pybind.utility.Vector3dVector()\n    2. open3d.cpu.pybind.utility.Vector3dVector(arg0: numpy.ndarray[float64])\n    3. open3d.cpu.pybind.utility.Vector3dVector(arg0: open3d.cpu.pybind.utility.Vector3dVector)\n    4. open3d.cpu.pybind.utility.Vector3dVector(arg0: iterable)\n\nInvoked with: <HDF5 dataset \"1\": shape (14712, 3), type \"<f8\">; kwargs: debug=True"
     ]
    }
   ],
   "source": [
    "\n",
    "with h5py.File('../datasets/vae/pts.h5') as ptsf:\n",
    "    for ok in ptsf['ptcs'].keys():\n",
    "        data_vis.visptc(ptsf['ptcs'][ok])\n"
   ]
  },
  {
   "cell_type": "code",
   "execution_count": null,
   "metadata": {
    "collapsed": false,
    "jupyter": {
     "outputs_hidden": false
    },
    "pycharm": {
     "name": "#%%\n"
    }
   },
   "outputs": [],
   "source": [
    "with h5py.File('../datasets/vae/random_ptc.h5', 'r') as ptsf:\n",
    "    for objk in ptsf.keys():\n",
    "        obj = ptsf[objk]\n",
    "        data_vis.visptc(obj)"
   ]
  },
  {
   "cell_type": "code",
   "execution_count": null,
   "metadata": {},
   "outputs": [],
   "source": []
  }
 ],
 "metadata": {
  "kernelspec": {
   "display_name": "Python 3",
   "language": "python",
   "name": "python3"
  },
  "language_info": {
   "codemirror_mode": {
    "name": "ipython",
    "version": 3
   },
   "file_extension": ".py",
   "mimetype": "text/x-python",
   "name": "python",
   "nbconvert_exporter": "python",
   "pygments_lexer": "ipython3",
   "version": "3.8.6"
  }
 },
 "nbformat": 4,
 "nbformat_minor": 4
}